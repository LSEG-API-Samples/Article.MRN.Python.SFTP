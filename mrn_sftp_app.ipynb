{
 "cells": [
  {
   "cell_type": "markdown",
   "id": "6d68285c-ab6e-4e2c-ad96-49431c5aec4d",
   "metadata": {},
   "source": [
    "## Import Libraries"
   ]
  },
  {
   "cell_type": "code",
   "execution_count": null,
   "id": "1c184c11-73d7-42c7-9bc2-3636c386c0e1",
   "metadata": {},
   "outputs": [],
   "source": [
    "import paramiko\n",
    "from dotenv import dotenv_values"
   ]
  },
  {
   "cell_type": "markdown",
   "id": "fe508745-b187-43e6-ab62-3a7aab73f124",
   "metadata": {},
   "source": [
    "### Set Parameters"
   ]
  },
  {
   "cell_type": "code",
   "execution_count": null,
   "id": "ab7bfc01-22f5-4773-b900-9c41a869dac4",
   "metadata": {},
   "outputs": [],
   "source": [
    "config = dotenv_values(\".env\")\n",
    "username = config['MACHINE_ID']\n",
    "password = config['PASSWORD']\n",
    "hostname = 'archive.news.refinitiv.com'\n",
    "localfilepath = '.\\download'"
   ]
  },
  {
   "cell_type": "markdown",
   "id": "4446290b-1b84-4810-b90d-f3bdf7bd93ec",
   "metadata": {},
   "source": [
    "### Establish the SSH Client"
   ]
  },
  {
   "cell_type": "code",
   "execution_count": 44,
   "id": "648f94e1-a247-4b2f-9574-31c47cf13765",
   "metadata": {},
   "outputs": [],
   "source": [
    "ssh = paramiko.SSHClient()\n",
    "# Automatically add host keys (not secure for production)\n",
    "ssh.set_missing_host_key_policy(paramiko.AutoAddPolicy())  "
   ]
  },
  {
   "cell_type": "markdown",
   "id": "4faac4e0-806a-4f4e-bd5e-296610eb1952",
   "metadata": {},
   "source": [
    "### Connect to the Remote Server"
   ]
  },
  {
   "cell_type": "code",
   "execution_count": 45,
   "id": "de5476ba-03c8-4253-af7f-34a1efff6fcd",
   "metadata": {},
   "outputs": [],
   "source": [
    "ssh.connect(hostname=hostname, username=username, password=password)"
   ]
  },
  {
   "cell_type": "markdown",
   "id": "19dc18c4-8e6b-4cf0-ba9d-050b71027f50",
   "metadata": {},
   "source": [
    "### Establish the SFTP client"
   ]
  },
  {
   "cell_type": "code",
   "execution_count": 46,
   "id": "47896cf7-d732-4ce4-b043-8803ae92bd4f",
   "metadata": {},
   "outputs": [],
   "source": [
    "sftp = ssh.open_sftp()"
   ]
  },
  {
   "cell_type": "markdown",
   "id": "28643d92-7c50-4bce-acf8-025d7e579001",
   "metadata": {},
   "source": [
    "### Check the current directory"
   ]
  },
  {
   "cell_type": "code",
   "execution_count": 47,
   "id": "21708e30-e8ee-4799-b330-2b70aaf503a9",
   "metadata": {},
   "outputs": [
    {
     "name": "stdout",
     "output_type": "stream",
     "text": [
      "['mpsych', 'na-gold']\n"
     ]
    }
   ],
   "source": [
    "print(sftp.listdir())"
   ]
  },
  {
   "cell_type": "markdown",
   "id": "31cf1118-2fb5-488f-9b0f-0b92d43fd02b",
   "metadata": {},
   "source": [
    "### Change Directory to get a file\n",
    "\n",
    "I am demonstrating with **/mpsych/MI4/CMPNY_REF/BASIC** folder and get the first file from the Remove server."
   ]
  },
  {
   "cell_type": "code",
   "execution_count": 48,
   "id": "4bf68653-3abc-4b35-9e33-97bfcf717c9b",
   "metadata": {},
   "outputs": [],
   "source": [
    "sftp.chdir('/mpsych/MI4/CMPNY_REF/BASIC')"
   ]
  },
  {
   "cell_type": "code",
   "execution_count": 49,
   "id": "b65825c0-9ef9-4a42-929d-2d3e3fd5fff7",
   "metadata": {},
   "outputs": [
    {
     "name": "stdout",
     "output_type": "stream",
     "text": [
      "['MI.Companies.BASIC.04043.txt', 'MI.Companies.Changes.04043.txt']\n"
     ]
    }
   ],
   "source": [
    "print(sftp.listdir())"
   ]
  },
  {
   "cell_type": "code",
   "execution_count": 50,
   "id": "1b89ef71-ad09-4369-abc6-7f9554052de3",
   "metadata": {},
   "outputs": [],
   "source": [
    "# Get the first file name\n",
    "fileName = sftp.listdir()[0]"
   ]
  },
  {
   "cell_type": "code",
   "execution_count": 51,
   "id": "f6e6a51e-70b7-476e-ad56-cf4c011e8d58",
   "metadata": {},
   "outputs": [],
   "source": [
    "sftp.get(remotepath = fileName, localpath=f'{localfilepath}\\{fileName}')"
   ]
  },
  {
   "cell_type": "markdown",
   "id": "50ae1ad7-dd14-4042-a801-7c6cc8171148",
   "metadata": {},
   "source": [
    "### Read the file"
   ]
  },
  {
   "cell_type": "code",
   "execution_count": 59,
   "id": "812708cc-4b4e-4532-85ca-7e2a05e56b70",
   "metadata": {},
   "outputs": [
    {
     "name": "stdout",
     "output_type": "stream",
     "text": [
      "OrgPermID\tName\tTRBC\tTRBCPermID\tTRBCEconomicSector\tTicker\tMIC\tRIC\tDomicile\tExchCtry\tExchCode\tInfoCode\tregion\tstatus\tCurrentInstrumentIssuerPermid\n",
      "4294970469\tESPN Inc\t5330202011\t4294951554\tConsumer cycl\n"
     ]
    }
   ],
   "source": [
    "try:\n",
    "    with open(f'{localfilepath}\\{fileName}') as finput:\n",
    "        data = finput.read(200)\n",
    "        print(data)\n",
    "except Exception as e:\n",
    "    print(f'The error is:{e}')"
   ]
  },
  {
   "cell_type": "code",
   "execution_count": 60,
   "id": "bf0766f7-4b1a-4a7c-96ac-bc7e55fc7fb6",
   "metadata": {},
   "outputs": [],
   "source": [
    "sftp.close()"
   ]
  },
  {
   "cell_type": "code",
   "execution_count": null,
   "id": "0e8d7b4a-e9c5-4b04-9011-1dec439ac3dc",
   "metadata": {},
   "outputs": [],
   "source": []
  },
  {
   "cell_type": "code",
   "execution_count": null,
   "id": "a61766c2-1f9b-4c66-b74d-e891a8fae0c5",
   "metadata": {},
   "outputs": [],
   "source": []
  },
  {
   "cell_type": "code",
   "execution_count": null,
   "id": "ebf10627-006d-4fb7-9581-c80a3440756c",
   "metadata": {},
   "outputs": [],
   "source": []
  }
 ],
 "metadata": {
  "kernelspec": {
   "display_name": "Python 3 (ipykernel)",
   "language": "python",
   "name": "python3"
  },
  "language_info": {
   "codemirror_mode": {
    "name": "ipython",
    "version": 3
   },
   "file_extension": ".py",
   "mimetype": "text/x-python",
   "name": "python",
   "nbconvert_exporter": "python",
   "pygments_lexer": "ipython3",
   "version": "3.10.14"
  }
 },
 "nbformat": 4,
 "nbformat_minor": 5
}
