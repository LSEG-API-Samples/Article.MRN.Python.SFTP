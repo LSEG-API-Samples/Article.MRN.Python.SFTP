{
 "cells": [
  {
   "cell_type": "markdown",
   "id": "6cf5d216-779d-4aab-a3df-1275e42a88e3",
   "metadata": {},
   "source": [
    "# Machine Readable News with SFTP Python Example\n",
    "\n",
    "- Last update: Sep 2024\n",
    "- Environment: Windows\n",
    "- Compiler: Python\n",
    "- Prerequisite: MRN Archive SFTP service account\n",
    "\n",
    "## Overview\n",
    "\n",
    "Machine Readable News (MRN) is an advanced service for automating the consumption and systematic analysis of news. It delivers deep historical news archives, ultra-low latency structured news and news analytics directly to your applications. This enables algorithms to exploit the power of news to seize opportunities, capitalize on market inefficiencies, and manage event risk. \n",
    "\n",
    "The MRN data Real-Time news and News Analytics data are available for consumers via the LSEG Real-Time Platform and SFTP connections. While the Real-Time news connection can be accessed programmatically only (we have covered it via the [Introduction to Machine Readable News (MRN) with Enterprise Message API (EMA)](https://developers.lseg.com/en/article-catalog/article/introduction-machine-readable-news-mrn-elektron-message-api-ema) and [Introduction to Machine Readable News with WebSocket API](https://developers.lseg.com/en/article-catalog/article/introduction-machine-readable-news-elektron-websocket-api-refinitiv) articles), the SFTP connection can be access with any SFTP applications like the [FileZilla](https://filezilla-project.org/), [WinSCP](https://winscp.net), or even Windows native ```SFTP``` command. \n",
    "\n",
    "However, some developers might need to access the SFTP remote server and get the file programmatically. This jupyter notebook shows a step-by-step guide to access and get the file from the MRN Remote SFTP site using the [Python](https://www.python.org/) programming language with the [Paramiko library](https://www.paramiko.org/) on the [JupyterLab notebook](https://jupyter.org/)."
   ]
  },
  {
   "cell_type": "markdown",
   "id": "6d68285c-ab6e-4e2c-ad96-49431c5aec4d",
   "metadata": {},
   "source": [
    "#### Import Libraries"
   ]
  },
  {
   "cell_type": "code",
   "execution_count": 1,
   "id": "1c184c11-73d7-42c7-9bc2-3636c386c0e1",
   "metadata": {},
   "outputs": [],
   "source": [
    "import paramiko\n",
    "from dotenv import dotenv_values"
   ]
  },
  {
   "cell_type": "markdown",
   "id": "fe508745-b187-43e6-ab62-3a7aab73f124",
   "metadata": {},
   "source": [
    "#### Set Parameters"
   ]
  },
  {
   "cell_type": "code",
   "execution_count": 2,
   "id": "ab7bfc01-22f5-4773-b900-9c41a869dac4",
   "metadata": {},
   "outputs": [],
   "source": [
    "config = dotenv_values(\".env\")\n",
    "username = config['MACHINE_ID'] #Or input your Machine-ID Manually\n",
    "password = config['PASSWORD']  #Or input your Password Manually\n",
    "hostname = 'archive.news.refinitiv.com'\n",
    "localfilepath = '.\\download'"
   ]
  },
  {
   "cell_type": "markdown",
   "id": "4446290b-1b84-4810-b90d-f3bdf7bd93ec",
   "metadata": {},
   "source": [
    "#### Establish the SSH Client"
   ]
  },
  {
   "cell_type": "code",
   "execution_count": 3,
   "id": "648f94e1-a247-4b2f-9574-31c47cf13765",
   "metadata": {},
   "outputs": [],
   "source": [
    "ssh = paramiko.SSHClient()\n",
    "# Automatically add host keys (not secure for production)\n",
    "ssh.set_missing_host_key_policy(paramiko.AutoAddPolicy())  "
   ]
  },
  {
   "cell_type": "markdown",
   "id": "4faac4e0-806a-4f4e-bd5e-296610eb1952",
   "metadata": {},
   "source": [
    "#### Connect to the Remote Server and Establish the SFTP client"
   ]
  },
  {
   "cell_type": "code",
   "execution_count": 4,
   "id": "de5476ba-03c8-4253-af7f-34a1efff6fcd",
   "metadata": {},
   "outputs": [],
   "source": [
    "sftp = None\n",
    "try:\n",
    "    ssh.connect(hostname=hostname, username=username, password=password)\n",
    "    sftp = ssh.open_sftp()\n",
    "except Exception as e:\n",
    "    print(f'Fail on connection :{e}')"
   ]
  },
  {
   "cell_type": "markdown",
   "id": "28643d92-7c50-4bce-acf8-025d7e579001",
   "metadata": {},
   "source": [
    "### Check the current directory"
   ]
  },
  {
   "cell_type": "code",
   "execution_count": 5,
   "id": "21708e30-e8ee-4799-b330-2b70aaf503a9",
   "metadata": {},
   "outputs": [
    {
     "name": "stdout",
     "output_type": "stream",
     "text": [
      "['mpsych', 'na-gold']\n"
     ]
    }
   ],
   "source": [
    "print(sftp.listdir())"
   ]
  },
  {
   "cell_type": "markdown",
   "id": "31cf1118-2fb5-488f-9b0f-0b92d43fd02b",
   "metadata": {},
   "source": [
    "#### Change Directory to get a file\n",
    "\n",
    "I am demonstrating with **/mpsych/MI4/CMPNY_REF/BASIC** folder and get the first file from the Remove server."
   ]
  },
  {
   "cell_type": "code",
   "execution_count": 7,
   "id": "4bf68653-3abc-4b35-9e33-97bfcf717c9b",
   "metadata": {},
   "outputs": [
    {
     "name": "stdout",
     "output_type": "stream",
     "text": [
      "lists files on this /mpsych/MI4/CMPNY_REF/BASIC folder: ['MI.Companies.BASIC.04043.txt', 'MI.Companies.Changes.04043.txt']\n"
     ]
    }
   ],
   "source": [
    "try:\n",
    "    sftp.chdir('/mpsych/MI4/CMPNY_REF/BASIC')\n",
    "    #lists files on this /mpsych/MI4/CMPNY_REF/BASIC folder\n",
    "    print(f'lists files on this /mpsych/MI4/CMPNY_REF/BASIC folder: {sftp.listdir()}')\n",
    "except Exception as e:\n",
    "    print(f'Fail on chaning directory :{e}')   "
   ]
  },
  {
   "cell_type": "code",
   "execution_count": 50,
   "id": "1b89ef71-ad09-4369-abc6-7f9554052de3",
   "metadata": {},
   "outputs": [],
   "source": [
    "# Get the first file name\n",
    "fileName = sftp.listdir()[0]"
   ]
  },
  {
   "cell_type": "markdown",
   "id": "72b47b81-4a95-4dfd-9894-9fd7ff1c2def",
   "metadata": {},
   "source": [
    "#### Downloading the file"
   ]
  },
  {
   "cell_type": "code",
   "execution_count": 8,
   "id": "f6e6a51e-70b7-476e-ad56-cf4c011e8d58",
   "metadata": {},
   "outputs": [],
   "source": [
    "try:\n",
    "    sftp.get(remotepath = fileName, localpath=f'{localfilepath}\\{fileName}')\n",
    "except Exception as e:\n",
    "    print(f'Fail on get a file :{e}')  "
   ]
  },
  {
   "cell_type": "markdown",
   "id": "50ae1ad7-dd14-4042-a801-7c6cc8171148",
   "metadata": {},
   "source": [
    "#### Read the file"
   ]
  },
  {
   "cell_type": "code",
   "execution_count": 9,
   "id": "812708cc-4b4e-4532-85ca-7e2a05e56b70",
   "metadata": {},
   "outputs": [
    {
     "name": "stdout",
     "output_type": "stream",
     "text": [
      "OrgPermID\tName\tTRBC\tTRBCPermID\tTRBCEconomicSector\tTicker\tMIC\tRIC\tDomicile\tExchCtry\tExchCode\tInfoCode\tregion\tstatus\tCurrentInstrumentIssuerPermid\n",
      "4294970469\tESPN Inc\t5330202011\t4294951554\tConsumer cycl\n"
     ]
    }
   ],
   "source": [
    "try:\n",
    "    with open(f'{localfilepath}\\{fileName}') as finput:\n",
    "        data = finput.read(200)\n",
    "        print(data)\n",
    "except Exception as e:\n",
    "    print(f'The error is:{e}')"
   ]
  },
  {
   "cell_type": "markdown",
   "id": "d1cc3dca-959d-4a34-a8b0-a3726c26aa60",
   "metadata": {},
   "source": [
    "#### Close the SFTP session "
   ]
  },
  {
   "cell_type": "code",
   "execution_count": 12,
   "id": "bf0766f7-4b1a-4a7c-96ac-bc7e55fc7fb6",
   "metadata": {},
   "outputs": [],
   "source": [
    "sftp.close()"
   ]
  },
  {
   "cell_type": "markdown",
   "id": "3b9b7097-d1a4-45ee-b96d-4853282e0abb",
   "metadata": {},
   "source": [
    "#### Close this SSHClient"
   ]
  },
  {
   "cell_type": "code",
   "execution_count": 13,
   "id": "49860d2f-fc58-4cc9-98b5-f03202de37a9",
   "metadata": {},
   "outputs": [],
   "source": [
    "ssh.close()"
   ]
  },
  {
   "cell_type": "markdown",
   "id": "c2e38ffe-4bb4-490e-8086-612bb18151b7",
   "metadata": {},
   "source": [
    "## References\n",
    "\n",
    "For further details, please check out the following resources:\n",
    "\n",
    "- [LSEG Developer Community](https://developers.lseg.com/) website.\n",
    "- [Machine Readable News](https://www.lseg.com/en/data-analytics/financial-news-services/machine-readable-news) website.\n",
    "- [Paramiko offical website](https://www.paramiko.org/)\n",
    "- [Paramiko API document](https://docs.paramiko.org/en/latest/)\n",
    "- [Paramiko SFTP API document](https://docs.paramiko.org/en/latest/api/sftp.html)\n",
    "- [Paramiko Client API document](https://docs.paramiko.org/en/latest/api/client.html)\n",
    "- [Paramiko- How to transfer files with Remote System (SFTP Servers) using Python](https://medium.com/nerd-for-tech/paramiko-how-to-transfer-files-with-remote-system-sftp-servers-using-python-52d3e51d2cfa) blog post.\n",
    "- [How-to: Python Paramiko](https://manicodes.hashnode.dev/how-to-python-paramiko) blog post.\n",
    "- [Paramiko SFTP: A Guide with Examples](https://sftpcloud.io/learn/python/paramiko-sftp-examples) website."
   ]
  },
  {
   "cell_type": "code",
   "execution_count": null,
   "id": "73230d29-82ae-4516-a59e-93c2f1058b86",
   "metadata": {},
   "outputs": [],
   "source": []
  }
 ],
 "metadata": {
  "kernelspec": {
   "display_name": "Python 3 (ipykernel)",
   "language": "python",
   "name": "python3"
  },
  "language_info": {
   "codemirror_mode": {
    "name": "ipython",
    "version": 3
   },
   "file_extension": ".py",
   "mimetype": "text/x-python",
   "name": "python",
   "nbconvert_exporter": "python",
   "pygments_lexer": "ipython3",
   "version": "3.10.14"
  }
 },
 "nbformat": 4,
 "nbformat_minor": 5
}
